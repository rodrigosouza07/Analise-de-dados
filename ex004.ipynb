{
 "cells": [
  {
   "cell_type": "code",
   "execution_count": 1,
   "metadata": {},
   "outputs": [],
   "source": [
    "import pandas as pd\n",
    "import seaborn as sns"
   ]
  },
  {
   "cell_type": "markdown",
   "metadata": {},
   "source": []
  },
  {
   "cell_type": "code",
   "execution_count": 5,
   "metadata": {},
   "outputs": [
    {
     "data": {
      "text/html": [
       "<div>\n",
       "<style scoped>\n",
       "    .dataframe tbody tr th:only-of-type {\n",
       "        vertical-align: middle;\n",
       "    }\n",
       "\n",
       "    .dataframe tbody tr th {\n",
       "        vertical-align: top;\n",
       "    }\n",
       "\n",
       "    .dataframe thead th {\n",
       "        text-align: right;\n",
       "    }\n",
       "</style>\n",
       "<table border=\"1\" class=\"dataframe\">\n",
       "  <thead>\n",
       "    <tr style=\"text-align: right;\">\n",
       "      <th></th>\n",
       "      <th>Código</th>\n",
       "      <th>Seção</th>\n",
       "      <th>Vendas</th>\n",
       "      <th>% Lucratividade</th>\n",
       "      <th>Lucro</th>\n",
       "      <th>% Venda Seção</th>\n",
       "    </tr>\n",
       "  </thead>\n",
       "  <tbody>\n",
       "    <tr>\n",
       "      <th>0</th>\n",
       "      <td>6.0</td>\n",
       "      <td>BEBIDAS</td>\n",
       "      <td>11.075,04</td>\n",
       "      <td>22,04</td>\n",
       "      <td>2.440,84</td>\n",
       "      <td>23,8</td>\n",
       "    </tr>\n",
       "    <tr>\n",
       "      <th>1</th>\n",
       "      <td>1.0</td>\n",
       "      <td>ACOUGUE</td>\n",
       "      <td>7.194,13</td>\n",
       "      <td>26,04</td>\n",
       "      <td>1.873,52</td>\n",
       "      <td>15,46</td>\n",
       "    </tr>\n",
       "    <tr>\n",
       "      <th>2</th>\n",
       "      <td>15.0</td>\n",
       "      <td>PADARIA</td>\n",
       "      <td>6.207,33</td>\n",
       "      <td>44,32</td>\n",
       "      <td>2.751,15</td>\n",
       "      <td>13,34</td>\n",
       "    </tr>\n",
       "    <tr>\n",
       "      <th>3</th>\n",
       "      <td>17.0</td>\n",
       "      <td>PERECIVEIS</td>\n",
       "      <td>5.371,84</td>\n",
       "      <td>29,4</td>\n",
       "      <td>1.579,37</td>\n",
       "      <td>11,54</td>\n",
       "    </tr>\n",
       "    <tr>\n",
       "      <th>4</th>\n",
       "      <td>12.0</td>\n",
       "      <td>MERCEARIA DOCE</td>\n",
       "      <td>4.133,16</td>\n",
       "      <td>27,1</td>\n",
       "      <td>1.119,88</td>\n",
       "      <td>8,88</td>\n",
       "    </tr>\n",
       "  </tbody>\n",
       "</table>\n",
       "</div>"
      ],
      "text/plain": [
       "   Código           Seção     Vendas % Lucratividade     Lucro % Venda Seção\n",
       "0     6.0         BEBIDAS  11.075,04           22,04  2.440,84          23,8\n",
       "1     1.0         ACOUGUE   7.194,13           26,04  1.873,52         15,46\n",
       "2    15.0         PADARIA   6.207,33           44,32  2.751,15         13,34\n",
       "3    17.0      PERECIVEIS   5.371,84            29,4  1.579,37         11,54\n",
       "4    12.0  MERCEARIA DOCE   4.133,16            27,1  1.119,88          8,88"
      ]
     },
     "execution_count": 5,
     "metadata": {},
     "output_type": "execute_result"
    }
   ],
   "source": [
    "venda = pd.read_csv('vendas_por_seção.csv', sep=\";\")\n",
    "venda.head()"
   ]
  },
  {
   "cell_type": "code",
   "execution_count": 6,
   "metadata": {},
   "outputs": [
    {
     "data": {
      "text/plain": [
       "Index(['Código', 'Seção', 'Vendas', '% Lucratividade', 'Lucro',\n",
       "       '% Venda Seção'],\n",
       "      dtype='object')"
      ]
     },
     "execution_count": 6,
     "metadata": {},
     "output_type": "execute_result"
    }
   ],
   "source": [
    "venda.columns"
   ]
  },
  {
   "cell_type": "code",
   "execution_count": 7,
   "metadata": {},
   "outputs": [
    {
     "data": {
      "text/html": [
       "<div>\n",
       "<style scoped>\n",
       "    .dataframe tbody tr th:only-of-type {\n",
       "        vertical-align: middle;\n",
       "    }\n",
       "\n",
       "    .dataframe tbody tr th {\n",
       "        vertical-align: top;\n",
       "    }\n",
       "\n",
       "    .dataframe thead th {\n",
       "        text-align: right;\n",
       "    }\n",
       "</style>\n",
       "<table border=\"1\" class=\"dataframe\">\n",
       "  <thead>\n",
       "    <tr style=\"text-align: right;\">\n",
       "      <th></th>\n",
       "      <th>Seção</th>\n",
       "      <th>Vendas</th>\n",
       "    </tr>\n",
       "  </thead>\n",
       "  <tbody>\n",
       "    <tr>\n",
       "      <th>0</th>\n",
       "      <td>BEBIDAS</td>\n",
       "      <td>11.075,04</td>\n",
       "    </tr>\n",
       "    <tr>\n",
       "      <th>1</th>\n",
       "      <td>ACOUGUE</td>\n",
       "      <td>7.194,13</td>\n",
       "    </tr>\n",
       "    <tr>\n",
       "      <th>2</th>\n",
       "      <td>PADARIA</td>\n",
       "      <td>6.207,33</td>\n",
       "    </tr>\n",
       "    <tr>\n",
       "      <th>3</th>\n",
       "      <td>PERECIVEIS</td>\n",
       "      <td>5.371,84</td>\n",
       "    </tr>\n",
       "    <tr>\n",
       "      <th>4</th>\n",
       "      <td>MERCEARIA DOCE</td>\n",
       "      <td>4.133,16</td>\n",
       "    </tr>\n",
       "    <tr>\n",
       "      <th>5</th>\n",
       "      <td>BAZAR GERAL + TEXTIL</td>\n",
       "      <td>3.390,85</td>\n",
       "    </tr>\n",
       "    <tr>\n",
       "      <th>6</th>\n",
       "      <td>HORTIFRUTI</td>\n",
       "      <td>2.554,91</td>\n",
       "    </tr>\n",
       "    <tr>\n",
       "      <th>7</th>\n",
       "      <td>PERFUMARIA</td>\n",
       "      <td>1.880,71</td>\n",
       "    </tr>\n",
       "    <tr>\n",
       "      <th>8</th>\n",
       "      <td>LIMPEZA</td>\n",
       "      <td>1.372,69</td>\n",
       "    </tr>\n",
       "    <tr>\n",
       "      <th>9</th>\n",
       "      <td>MERCEARIA SECA</td>\n",
       "      <td>1.251,20</td>\n",
       "    </tr>\n",
       "    <tr>\n",
       "      <th>10</th>\n",
       "      <td>MERCEARIA SALGADA</td>\n",
       "      <td>1.212,28</td>\n",
       "    </tr>\n",
       "    <tr>\n",
       "      <th>11</th>\n",
       "      <td>PEIXARIA</td>\n",
       "      <td>856,58</td>\n",
       "    </tr>\n",
       "    <tr>\n",
       "      <th>12</th>\n",
       "      <td>ELETRO</td>\n",
       "      <td>18,97</td>\n",
       "    </tr>\n",
       "    <tr>\n",
       "      <th>13</th>\n",
       "      <td>GERAL</td>\n",
       "      <td>10</td>\n",
       "    </tr>\n",
       "    <tr>\n",
       "      <th>14</th>\n",
       "      <td>Total de registros: 14</td>\n",
       "      <td>Total:</td>\n",
       "    </tr>\n",
       "  </tbody>\n",
       "</table>\n",
       "</div>"
      ],
      "text/plain": [
       "                     Seção     Vendas\n",
       "0                  BEBIDAS  11.075,04\n",
       "1                  ACOUGUE   7.194,13\n",
       "2                  PADARIA   6.207,33\n",
       "3               PERECIVEIS   5.371,84\n",
       "4           MERCEARIA DOCE   4.133,16\n",
       "5     BAZAR GERAL + TEXTIL   3.390,85\n",
       "6               HORTIFRUTI   2.554,91\n",
       "7               PERFUMARIA   1.880,71\n",
       "8                  LIMPEZA   1.372,69\n",
       "9           MERCEARIA SECA   1.251,20\n",
       "10       MERCEARIA SALGADA   1.212,28\n",
       "11                PEIXARIA     856,58\n",
       "12                  ELETRO      18,97\n",
       "13                   GERAL         10\n",
       "14  Total de registros: 14     Total:"
      ]
     },
     "execution_count": 7,
     "metadata": {},
     "output_type": "execute_result"
    }
   ],
   "source": [
    "venda[['Seção','Vendas']]"
   ]
  },
  {
   "cell_type": "code",
   "execution_count": null,
   "metadata": {},
   "outputs": [],
   "source": []
  }
 ],
 "metadata": {
  "kernelspec": {
   "display_name": "Python 3",
   "language": "python",
   "name": "python3"
  },
  "language_info": {
   "codemirror_mode": {
    "name": "ipython",
    "version": 3
   },
   "file_extension": ".py",
   "mimetype": "text/x-python",
   "name": "python",
   "nbconvert_exporter": "python",
   "pygments_lexer": "ipython3",
   "version": "3.11.1"
  },
  "orig_nbformat": 4,
  "vscode": {
   "interpreter": {
    "hash": "aee8b7b246df8f9039afb4144a1f6fd8d2ca17a180786b69acc140d282b71a49"
   }
  }
 },
 "nbformat": 4,
 "nbformat_minor": 2
}
